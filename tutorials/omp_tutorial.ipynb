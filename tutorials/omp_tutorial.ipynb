{
 "metadata": {
  "language_info": {
   "codemirror_mode": {
    "name": "ipython",
    "version": 3
   },
   "file_extension": ".py",
   "mimetype": "text/x-python",
   "name": "python",
   "nbconvert_exporter": "python",
   "pygments_lexer": "ipython3",
   "version": "3.6.5-final"
  },
  "orig_nbformat": 2,
  "kernelspec": {
   "name": "python3",
   "display_name": "Python 3.6.5 64-bit ('base': conda)",
   "metadata": {
    "interpreter": {
     "hash": "98b0a9b7b4eaaa670588a142fd0a9b87eaafe866f1db4228be72b4211d12040f"
    }
   }
  }
 },
 "nbformat": 4,
 "nbformat_minor": 2,
 "cells": [
  {
   "source": [
    "## OMP Tutorial\n",
    "\n",
    "Notations\n",
    "- `Y` :  Actual signal. `Y.shape -> (NUM_FEATURES, NUM_PATCHES)`\n",
    "- `D` :  Dictionary. Basis vectors are stored. `D.shape -> (NUM_FEATURES, NUM_BASIS)`\n",
    "- `X` :  Sparse representation. `X.shape -> (NUM_BASIS, NUM_PATCHES)`\n",
    "- `E` :  Errors between Y and approximate signal. Initial value is `Y`. `E.shape -> (NUM_FEATURES, NUM_PATCHES)`\n",
    "- `I` :  Absolute value of inner products given by `np.abs(np.inner(D.T, E))`. `I.shape -> (NUM_BASIS,)`\n",
    "- `S` :  Set of index with the largest inner product at iteration `k`. Initial value is empty list `[]`.\n",
    "\n",
    "References\n",
    "- https://sparse-plex.readthedocs.io/en/latest/book/pursuit/omp/algorithm.html\n",
    "- https://www.ieice.org/ess/sita/forum/article/2015/201512081915.pdf\n",
    "\n",
    "\n"
   ],
   "cell_type": "markdown",
   "metadata": {}
  },
  {
   "cell_type": "code",
   "execution_count": 1,
   "metadata": {},
   "outputs": [],
   "source": [
    "import numpy as np\n",
    "from scipy.optimize import least_squares"
   ]
  },
  {
   "cell_type": "code",
   "execution_count": 2,
   "metadata": {},
   "outputs": [],
   "source": [
    "NUM_PATCHES = 1\n",
    "NUM_FEATURES = 10\n",
    "NUM_BASIS = 20\n",
    "MAX_ITER = 10\n",
    "THRESHOLD = 1e-5"
   ]
  },
  {
   "cell_type": "code",
   "execution_count": 3,
   "metadata": {},
   "outputs": [],
   "source": [
    "Y = np.array([4.74342, -4.74342, 1.58114, -4.74342, -1.58114, 1.58114, -4.74342, -1.58114, -4.74342, -4.74342])\n",
    "\n",
    "D = np.array([[-1, -1, -1,  1, -1, -1,  1,  1, -1,  1,  1, -1, -1, -1,  1,  1,  1, -1, -1, -1],\n",
    "              [ 1,  1,  1,  1,  1, -1, -1,  1, -1, -1,  1,  1,  1, -1, -1, -1, -1, -1, -1,  1],\n",
    "              [-1, -1, -1, -1, -1,  1,  1,  1,  1,  1, -1,  1,  1,  1,  1,  1, -1, -1, -1, -1],\n",
    "              [ 1, -1, -1,  1,  1,  1, -1,  1,  1,  1,  1, -1,  1, -1,  1,  1,  1, -1, -1, -1],\n",
    "              [ 1,  1,  1, -1, -1,  1, -1, -1,  1,  1,  1, -1, -1,  1,  1,  1, -1,  1,  1, -1],\n",
    "              [ 1, -1,  1, -1, -1, -1,  1, -1,  1, -1, -1,  1,  1,  1, -1,  1, -1,  1, -1,  1],\n",
    "              [-1, -1,  1,  1, -1, -1, -1, -1,  1, -1, -1,  1,  1, -1,  1, -1, -1, -1,  1,  1],\n",
    "              [ 1, -1,  1,  1, -1,  1, -1, -1, -1,  1,  1, -1, -1,  1,  1, -1, -1,  1, -1,  1],\n",
    "              [-1,  1, -1,  1,  1, -1, -1, -1,  1,  1,  1,  1,  1,  1, -1, -1,  1,  1,  1, -1],\n",
    "              [ 1,  1,  1,  1, -1,  1, -1,  1, -1,  1, -1, -1,  1,  1, -1,  1,  1, -1, -1,  1]]) / np.sqrt(10)\n",
    "E = Y\n",
    "\n",
    "S = []\n",
    "\n",
    "def approximate_func(X, Y, D, S):\n",
    "    for s in S:\n",
    "        Y = Y - D[:, s] * X[s]\n",
    "    return Y"
   ]
  },
  {
   "cell_type": "code",
   "execution_count": 4,
   "metadata": {},
   "outputs": [
    {
     "output_type": "stream",
     "name": "stdout",
     "text": [
      "\n\nIteration: 0\nX: [-7  0  0  0  0  0 11  0  0  0  0  0  0  0  0  0  0  0  0  0]\nnp.abs(E).sum(): 15.178943999999968\n\n\nIteration: 1\nX: [ 0  0  0  0  0  0 10  0  0  0  0  0 -5  0  0  0  0  0  0  0]\nnp.abs(E).sum(): 6.124324158918171e-09\n"
     ]
    }
   ],
   "source": [
    "for k in range(MAX_ITER):\n",
    "\n",
    "    I = np.abs(np.inner(D.T, E))  # Compute absolute value of inner products\n",
    "    S.append(I.argmax())          # Add maximum index of I\n",
    "    ans = least_squares(approximate_func, np.zeros(NUM_BASIS), args=(Y, D, S))  # Solve least squares problem\n",
    "    X = ans.x.astype(int)  # Sparse representation\n",
    "    E = ans.fun            # Erros between Y and approximate signal\n",
    "\n",
    "    print(\"\\n\")\n",
    "    print(f\"Iteration: {k}\")\n",
    "    print(f\"X: {X}\")\n",
    "    print(f\"np.abs(E).sum(): {np.abs(E).sum()}\")\n",
    "    \n",
    "    if np.abs(E).sum() < THRESHOLD:\n",
    "        break"
   ]
  }
 ]
}